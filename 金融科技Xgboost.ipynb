{
  "nbformat": 4,
  "nbformat_minor": 0,
  "metadata": {
    "colab": {
      "provenance": [],
      "mount_file_id": "1spHUiPWFXu7RAq9LoBUcOL1X3KhB8PtQ",
      "authorship_tag": "ABX9TyOMNmCbE9MDzJleCPBIHgV1",
      "include_colab_link": true
    },
    "kernelspec": {
      "name": "python3",
      "display_name": "Python 3"
    },
    "language_info": {
      "name": "python"
    }
  },
  "cells": [
    {
      "cell_type": "markdown",
      "metadata": {
        "id": "view-in-github",
        "colab_type": "text"
      },
      "source": [
        "<a href=\"https://colab.research.google.com/github/chain13567/-PropTech-FinTech-/blob/main/%E9%87%91%E8%9E%8D%E7%A7%91%E6%8A%80Xgboost.ipynb\" target=\"_parent\"><img src=\"https://colab.research.google.com/assets/colab-badge.svg\" alt=\"Open In Colab\"/></a>"
      ]
    },
    {
      "cell_type": "code",
      "execution_count": null,
      "metadata": {
        "id": "DdQQ7QMfmaux"
      },
      "outputs": [],
      "source": [
        "import pandas as pd"
      ]
    },
    {
      "cell_type": "code",
      "source": [
        "df = pd.read_csv('/content/drive/MyDrive/Colab Notebooks/project/金融科技/coidA_APPRRENT_preprocessfinal.csv',encoding = 'utf-8-sig')"
      ],
      "metadata": {
        "id": "KqrwKFzKoOwK"
      },
      "execution_count": null,
      "outputs": []
    },
    {
      "cell_type": "markdown",
      "source": [
        "# 隨機森林"
      ],
      "metadata": {
        "id": "EMa72GwWoJJr"
      }
    },
    {
      "cell_type": "code",
      "source": [
        "from sklearn.ensemble import RandomForestRegressor\n",
        "from sklearn.model_selection import train_test_split\n",
        "import pandas as pd\n",
        "\n",
        "# 假設你有一個名為 df 的 DataFrame，'target' 是目標變量，其餘是特徵\n",
        "features = df.drop('unit_prc', axis=1)\n",
        "target = df['unit_prc']\n",
        "\n",
        "# 分割訓練集和測試集\n",
        "X_train, X_test, y_train, y_test = train_test_split(features, target, test_size=0.2, random_state=42)\n",
        "\n",
        "# 建立隨機森林回歸器\n",
        "reg = RandomForestRegressor(n_estimators=100, random_state=42)\n",
        "\n",
        "# 訓練模型\n",
        "reg.fit(X_train, y_train)\n",
        "\n",
        "# 獲取特徵重要性\n",
        "importances = reg.feature_importances_\n",
        "\n",
        "# 將特徵重要性與特徵名稱對應起來\n",
        "feature_importances = pd.Series(importances, index=features.columns)\n",
        "\n",
        "# 打印出每個特徵的重要性\n",
        "# print(feature_importances)\n",
        "\n",
        "# Sort the feature importances in descending order and select the top 15\n",
        "sorted_feature_importances = feature_importances.sort_values(ascending=False)[:15]\n",
        "\n",
        "# Print the importance of each feature\n",
        "print(sorted_feature_importances)"
      ],
      "metadata": {
        "colab": {
          "base_uri": "https://localhost:8080/"
        },
        "id": "-ZZmE-rkoM2O",
        "outputId": "1fa718c7-5614-47d0-cc5b-e57854e594ef"
      },
      "execution_count": null,
      "outputs": [
        {
          "output_type": "stream",
          "name": "stdout",
          "text": [
            "district_sell            0.544253\n",
            "tot_prc                  0.156817\n",
            "build_area               0.085873\n",
            "coord_x                  0.037924\n",
            "district                 0.033530\n",
            "tot_floor                0.025088\n",
            "room_age                 0.017744\n",
            "revenue                  0.012615\n",
            "coord_y                  0.009901\n",
            "land_area                0.009068\n",
            "nearest_metrodistance    0.007987\n",
            "nearest_tradistance      0.006731\n",
            "bstate_fg                0.006400\n",
            "berth_prc                0.006280\n",
            "room                     0.005491\n",
            "dtype: float64\n"
          ]
        }
      ]
    },
    {
      "cell_type": "markdown",
      "source": [
        "# Lasso"
      ],
      "metadata": {
        "id": "Mdf5Pv5woEiJ"
      }
    },
    {
      "cell_type": "code",
      "source": [
        "from sklearn.preprocessing import MinMaxScaler, StandardScaler\n",
        "from sklearn.linear_model import LassoCV\n",
        "from sklearn.model_selection import train_test_split\n",
        "import numpy as np\n",
        "\n",
        "\n",
        "# 選擇特徵和目標變數\n",
        "features = df.drop('unit_prc', axis=1)\n",
        "target = df['unit_prc']\n",
        "\n",
        "# 分割訓練集和測試集\n",
        "X_train, X_test, y_train, y_test = train_test_split(features, target, test_size=0.2, random_state=42)\n",
        "\n",
        "# 建立 LassoCV 模型\n",
        "lasso = LassoCV(cv=5, random_state=0)\n",
        "\n",
        "# 訓練模型\n",
        "lasso.fit(X_train, y_train)\n",
        "\n",
        "# 獲取特徵的重要性\n",
        "importance = np.abs(lasso.coef_)\n",
        "\n",
        "# 列印出重要的特徵\n",
        "print(\"Feature importances:\\n\")\n",
        "for i in range(len(importance)):\n",
        "    if importance[i] > 0:\n",
        "        print(f\"{features.columns[i]}: {importance[i]}\")\n"
      ],
      "metadata": {
        "colab": {
          "base_uri": "https://localhost:8080/"
        },
        "id": "l4gi-AH6oD2Y",
        "outputId": "fb6560d2-aa2a-4515-f092-8e1effece8b7"
      },
      "execution_count": null,
      "outputs": [
        {
          "output_type": "stream",
          "name": "stdout",
          "text": [
            "Feature importances:\n",
            "\n",
            "tot_prc: 0.0003620408905276789\n",
            "revenue: 0.00010340198742141782\n"
          ]
        }
      ]
    },
    {
      "cell_type": "code",
      "source": [
        "from sklearn.preprocessing import MinMaxScaler, StandardScaler\n",
        "from sklearn.linear_model import LassoCV\n",
        "from sklearn.model_selection import train_test_split\n",
        "import numpy as np\n",
        "\n",
        "# 選擇特徵和目標變數\n",
        "features = df.drop('unit_prc', axis=1)\n",
        "target = df['unit_prc']\n",
        "\n",
        "# 分割訓練集和測試集\n",
        "X_train, X_test, y_train, y_test = train_test_split(features, target, test_size=0.2, random_state=42)\n",
        "\n",
        "# 創建預處理對象\n",
        "scaler = StandardScaler()  # 用於標準化\n",
        "mm_scaler = MinMaxScaler()  # 用於規範化\n",
        "\n",
        "# 對訓練集進行擬合和轉換\n",
        "X_train_scaled = scaler.fit_transform(X_train)\n",
        "X_train_scaled = mm_scaler.fit_transform(X_train_scaled)\n",
        "\n",
        "# 對測試集進行轉換\n",
        "X_test_scaled = scaler.transform(X_test)\n",
        "X_test_scaled = mm_scaler.transform(X_test_scaled)\n",
        "\n",
        "# 建立 LassoCV 模型\n",
        "lasso = LassoCV(cv=5, random_state=0)\n",
        "\n",
        "# 訓練模型\n",
        "lasso.fit(X_train_scaled, y_train)\n",
        "\n",
        "# 獲取特徵的重要性\n",
        "importance = np.abs(lasso.coef_)\n",
        "\n",
        "# 將特徵重要性與特徵名稱對應起來\n",
        "feature_importances = pd.Series(importance, index=features.columns)\n",
        "\n",
        "# 按重要性排序\n",
        "sorted_feature_importances = feature_importances.sort_values(ascending=False)\n",
        "\n",
        "# 打印出每個特徵的重要性\n",
        "print(\"Feature importances:\\n\")\n",
        "for feature, importance in sorted_feature_importances.items():\n",
        "  print(f\"{feature}: {importance}\")"
      ],
      "metadata": {
        "colab": {
          "base_uri": "https://localhost:8080/"
        },
        "id": "hMN9JzUONwlp",
        "outputId": "da753661-12be-4c14-ad9e-47529b9b523d"
      },
      "execution_count": null,
      "outputs": [
        {
          "output_type": "stream",
          "name": "stdout",
          "text": [
            "Feature importances:\n",
            "\n",
            "tot_prc: 1014.9524413464574\n",
            "build_area: 746.4344039515851\n",
            "berth_prc: 147.3079058497709\n",
            "room: 89.53668290819984\n",
            "district_sell: 49.93232548510831\n",
            "revenue: 29.012249467562942\n",
            "land_area: 20.727075529556515\n",
            "tot_floor: 15.540279877123865\n",
            "cluster: 8.150522814449515\n",
            "room_age: 6.428511783584116\n",
            "district: 6.1075359488588115\n",
            "tsign_fg: 4.300623758415339\n",
            "sell2rentratio: 4.130049983825472\n",
            "district_rent: 3.975913861130279\n",
            "cpi: 3.7795454220993294\n",
            "year: 2.6982326908388434\n",
            "land: 2.492883062792715\n",
            "matl_fg: 2.4079654871260594\n",
            "top_floor: 1.0059057870928891\n",
            "unemployment: 0.9974431878951553\n",
            "mgt_com: 0.9423728734526394\n",
            "zoning_fg: 0.7821319275371302\n",
            "bstate_fg: 0.7647297235955078\n",
            "mainuse_fg: 0.6529422419814114\n",
            "compart: 0.5390623420916032\n",
            "month: 0.5160221009581717\n",
            "road_fg: 0.09646724206919632\n",
            "build: 0.0\n",
            "day: 0.0\n",
            "health: 0.0\n",
            "coord_y: 0.0\n",
            "nearest_tradistance: 0.0\n",
            "nearest_metrodistance: 0.0\n",
            "coord_x: 0.0\n",
            "berth: 0.0\n",
            "hall: 0.0\n"
          ]
        }
      ]
    },
    {
      "cell_type": "code",
      "source": [
        "import pandas as pd\n",
        "import matplotlib.pyplot as plt\n",
        "import seaborn as sns\n",
        "\n",
        "# 计算平均值\n",
        "mean_price = df['unit_prc'].mean()\n",
        "print('Average unit price: ', mean_price)\n",
        "\n",
        "# 绘制直方图以查看分布\n",
        "plt.figure(figsize=(10,6))\n",
        "sns.histplot(df['unit_prc'], bins=50, kde=True)\n",
        "plt.title('Distribution of Unit Price')\n",
        "plt.xlabel('Unit Price')\n",
        "plt.ylabel('Frequency')\n",
        "plt.show()\n"
      ],
      "metadata": {
        "colab": {
          "base_uri": "https://localhost:8080/",
          "height": 581
        },
        "id": "ECZ3trARDIHD",
        "outputId": "96796600-f5a5-4134-e4a5-6efdae903120"
      },
      "execution_count": null,
      "outputs": [
        {
          "output_type": "stream",
          "name": "stdout",
          "text": [
            "Average unit price:  65.25885505964736\n"
          ]
        },
        {
          "output_type": "display_data",
          "data": {
            "text/plain": [
              "<Figure size 1000x600 with 1 Axes>"
            ],
            "image/png": "[encoded data removed]"
          },
          "metadata": {}
        }
      ]
    },
    {
      "cell_type": "markdown",
      "source": [
        "# Xgboost"
      ],
      "metadata": {
        "id": "RXTVf7QMoGNB"
      }
    },
    {
      "cell_type": "code",
      "source": [
        "import xgboost as xgb\n",
        "import pandas as pd\n",
        "from sklearn.metrics import mean_squared_error\n",
        "\n",
        "# 假設你有一個名為 df 的 DataFrame，其中包含上述提到的特徵和目標變量\n",
        "features = df[['district', 'coord_x', 'coord_y', 'land', 'build',\n",
        "        'berth', 'land_area', 'tot_floor', 'bstate_fg', 'room_age',\n",
        "        'build_area', 'room', 'cpi', 'revenue', 'nearest_tradistance',\n",
        "        'nearest_metrodistance']]\n",
        "target = df['unit_prc']\n",
        "\n",
        "# 分割訓練集和測試集\n",
        "X_train, X_test, y_train, y_test = train_test_split(features, target, test_size=0.2, random_state=42)\n",
        "\n",
        "# 設置 XGBoost 模型參數\n",
        "params = {\n",
        "    'n_estimators': 100,  # 樹的個數\n",
        "    'max_depth': 10,  # 樹的最大深度\n",
        "    'learning_rate': 0.1,  # 學習率\n",
        "    'subsample': 0.8,  # 每棵樹樣本的子樣本比例\n",
        "    'colsample_bytree': 0.8,  # 每棵樹特徵的子特徵比例\n",
        "    'gamma': 0,  # 樹生長時需要的最小損失減少才會繼續分支\n",
        "    'reg_alpha': 0,  # L1 正則化項的權重\n",
        "    'reg_lambda': 1  # L2 正則化項的權重\n",
        "}\n",
        "\n",
        "# 建立 XGBoost 回歸器\n",
        "model = xgb.XGBRegressor(**params)\n",
        "\n",
        "# 訓練模型\n",
        "model.fit(X_train, y_train)\n",
        "\n",
        "# 使用模型進行預測\n",
        "predictions = model.predict(X_test)\n",
        "\n",
        "# # 顯示前10筆預測結果\n",
        "for i in range(10):\n",
        "    print(f\"實際值: {y_test.iloc[i]}, 預測值: {predictions[i]}\")\n",
        "\n",
        "# 計算均方根誤差（RMSE）作為模型性能評估指標\n",
        "rmse = mean_squared_error(y_test, predictions, squared=False)\n",
        "# 該指標表示平均預測誤差的標準差。較小的RMSE值表示模型的預測性能較好。根據提供的RMSE值，可以說模型對目標變量的預測相對準確\n",
        "print(f\"均方根誤差（RMSE）: {rmse}\")"
      ],
      "metadata": {
        "colab": {
          "base_uri": "https://localhost:8080/"
        },
        "id": "Fzx7IzKEncMJ",
        "outputId": "c2d0cc30-9547-4add-9fca-9d7aec1fd197"
      },
      "execution_count": null,
      "outputs": [
        {
          "output_type": "stream",
          "name": "stdout",
          "text": [
            "實際值: 45.0, 預測值: 42.367431640625\n",
            "實際值: 39.4, 預測值: 35.394168853759766\n",
            "實際值: 53.1, 預測值: 54.94929122924805\n",
            "實際值: 67.1, 預測值: 63.35212326049805\n",
            "實際值: 82.2, 預測值: 81.9832992553711\n",
            "實際值: 31.7, 預測值: 53.442169189453125\n",
            "實際值: 67.9, 預測值: 65.20531463623047\n",
            "實際值: 90.0, 預測值: 97.94974517822266\n",
            "實際值: 60.0, 預測值: 76.57734680175781\n",
            "實際值: 54.8, 預測值: 63.00616455078125\n",
            "均方根誤差（RMSE）: 13.437625042388232\n"
          ]
        }
      ]
    },
    {
      "cell_type": "code",
      "source": [
        "new_data = pd.DataFrame({\n",
        "     'district' : [100],\n",
        "     'coord_x' : [25.042519646345433],\n",
        "     'coord_y' : [121.52049715533168],\n",
        "     'land' : [1],\n",
        "     'build' : [1],\n",
        "     'berth' : [1],\n",
        "     'land_area' : [30],\n",
        "     'tot_floor' : [30],\n",
        "     'bstate_fg' : [4],\n",
        "     'room_age' : [10],\n",
        "     'build_area' : [40],\n",
        "     'room' : [3],\n",
        "     'cpi' : [105.04],\n",
        "     'revenue' : [600000],\n",
        "     'nearest_tradistance' : [0.0025008486559658],\n",
        "     'nearest_metrodistance' : [0.0015874410225321]\n",
        "})\n",
        "# 使用模型進行預測\n",
        "prediction = model.predict(new_data)\n",
        "\n",
        "print(f\"預測值: {prediction[0]}\")"
      ],
      "metadata": {
        "colab": {
          "base_uri": "https://localhost:8080/"
        },
        "id": "cjBs5tWZQxkV",
        "outputId": "b5dcb381-24be-47cd-f62f-d29ce7298256"
      },
      "execution_count": null,
      "outputs": [
        {
          "output_type": "stream",
          "name": "stdout",
          "text": [
            "預測值: 105.7536849975586\n"
          ]
        }
      ]
    },
    {
      "cell_type": "code",
      "source": [
        "# 儲存模型\n",
        "model.save_model('xgboost_model.json')"
      ],
      "metadata": {
        "id": "zR8QcX0r0Mgi"
      },
      "execution_count": null,
      "outputs": []
    }
  ]
}